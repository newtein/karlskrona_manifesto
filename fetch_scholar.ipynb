{
 "cells": [
  {
   "cell_type": "code",
   "execution_count": 1,
   "id": "01758053",
   "metadata": {},
   "outputs": [],
   "source": [
    "from scholarly import scholarly\n"
   ]
  },
  {
   "cell_type": "code",
   "execution_count": 12,
   "id": "d9605c87",
   "metadata": {},
   "outputs": [],
   "source": [
    "from scholarly import scholarly, ProxyGenerator\n",
    "import csv\n",
    "\n",
    "def setup_proxy():\n",
    "    # Initialize a ProxyGenerator object\n",
    "    pg = ProxyGenerator()\n",
    "\n",
    "    # Use a free proxy (not recommended for high reliability or large-scale scraping)\n",
    "    pg.FreeProxies()\n",
    "\n",
    "    # Alternatively, set up your own proxy or use a premium proxy service\n",
    "    # Example for a custom proxy setup (replace 'http' with 'https' or 'socks5' if necessary)\n",
    "    # pg.SingleProxy(http='http://username:password@ip:port', https='https://username:password@ip:port')\n",
    "\n",
    "    # Set the scholarly library to use this proxy\n",
    "    scholarly.use_proxy(pg)\n",
    "\n",
    "def fetch_citations_and_save_to_csv(title, filename):\n",
    "    # Setup proxy\n",
    "#     setup_proxy()\n",
    "    \n",
    "    # Search for the paper by title\n",
    "    search_query = scholarly.search_pubs(title)\n",
    "    paper = next(search_query)\n",
    "    \n",
    "    # Get detailed information\n",
    "    print(paper)\n",
    "    detailed_info = scholarly.fill(paper, sections=['biblio'])\n",
    "    print(detailed_info)\n",
    "    # Prepare CSV file\n",
    "    with open(filename, 'w', newline='', encoding='utf-8') as file:\n",
    "        writer = csv.writer(file)\n",
    "        # Write header row\n",
    "        writer.writerow(['Title', 'Authors', 'Year', 'Venue', 'Abstract', 'Publisher', 'Pages', 'Journal', 'Publication Type', 'Bib ID', 'Publication URL', 'Cited By URL'])\n",
    "        \n",
    "        # Extract publication details\n",
    "        bib = detailed_info['bib']\n",
    "        title = bib.get('title', 'No title available')\n",
    "        authors = bib.get('author', 'No author information')\n",
    "        year = bib.get('pub_year', 'No publication year')\n",
    "        venue = bib.get('venue', 'No venue information')\n",
    "        abstract = bib.get('abstract', 'No abstract available')\n",
    "        publisher = bib.get('publisher', 'No publisher information')\n",
    "        pages = bib.get('pages', 'No pages information')\n",
    "        journal = bib.get('journal', 'No journal information')\n",
    "        pub_type = bib.get('pub_type', 'No publication type information')\n",
    "        bib_id = bib.get('bib_id', 'No bib ID')\n",
    "        pub_url = detailed_info.get('pub_url', 'No URL available')\n",
    "        citedby_url = detailed_info.get('citedby_url', 'No cited by URL available')\n",
    "\n",
    "        # Write to CSV\n",
    "        writer.writerow([title, authors, year, venue, abstract, publisher, pages, journal, pub_type, bib_id, pub_url, citedby_url])"
   ]
  },
  {
   "cell_type": "code",
   "execution_count": 13,
   "id": "847a7ef9",
   "metadata": {},
   "outputs": [
    {
     "ename": "StopIteration",
     "evalue": "",
     "output_type": "error",
     "traceback": [
      "\u001b[1;31m---------------------------------------------------------------------------\u001b[0m",
      "\u001b[1;31mStopIteration\u001b[0m                             Traceback (most recent call last)",
      "Cell \u001b[1;32mIn [13], line 2\u001b[0m\n\u001b[0;32m      1\u001b[0m \u001b[38;5;66;03m# Example usage, searching by DOI\u001b[39;00m\n\u001b[1;32m----> 2\u001b[0m \u001b[43mfetch_citations_and_save_to_csv\u001b[49m\u001b[43m(\u001b[49m\u001b[38;5;124;43m\"\u001b[39;49m\u001b[38;5;124;43mRequirements: The Key to Sustainability\u001b[39;49m\u001b[38;5;124;43m\"\u001b[39;49m\u001b[43m,\u001b[49m\u001b[43m \u001b[49m\u001b[38;5;124;43m\"\u001b[39;49m\u001b[38;5;124;43mcitations.csv\u001b[39;49m\u001b[38;5;124;43m\"\u001b[39;49m\u001b[43m)\u001b[49m\n",
      "Cell \u001b[1;32mIn [12], line 24\u001b[0m, in \u001b[0;36mfetch_citations_and_save_to_csv\u001b[1;34m(title, filename)\u001b[0m\n\u001b[0;32m     18\u001b[0m \u001b[38;5;28;01mdef\u001b[39;00m \u001b[38;5;21mfetch_citations_and_save_to_csv\u001b[39m(title, filename):\n\u001b[0;32m     19\u001b[0m     \u001b[38;5;66;03m# Setup proxy\u001b[39;00m\n\u001b[0;32m     20\u001b[0m \u001b[38;5;66;03m#     setup_proxy()\u001b[39;00m\n\u001b[0;32m     21\u001b[0m     \n\u001b[0;32m     22\u001b[0m     \u001b[38;5;66;03m# Search for the paper by title\u001b[39;00m\n\u001b[0;32m     23\u001b[0m     search_query \u001b[38;5;241m=\u001b[39m scholarly\u001b[38;5;241m.\u001b[39msearch_pubs(title)\n\u001b[1;32m---> 24\u001b[0m     paper \u001b[38;5;241m=\u001b[39m \u001b[38;5;28;43mnext\u001b[39;49m\u001b[43m(\u001b[49m\u001b[43msearch_query\u001b[49m\u001b[43m)\u001b[49m\n\u001b[0;32m     26\u001b[0m     \u001b[38;5;66;03m# Get detailed information\u001b[39;00m\n\u001b[0;32m     27\u001b[0m     \u001b[38;5;28mprint\u001b[39m(paper)\n",
      "File \u001b[1;32m~\\AppData\\Local\\Packages\\PythonSoftwareFoundation.Python.3.8_qbz5n2kfra8p0\\LocalCache\\local-packages\\Python38\\site-packages\\scholarly\\publication_parser.py:93\u001b[0m, in \u001b[0;36m_SearchScholarIterator.__next__\u001b[1;34m(self)\u001b[0m\n\u001b[0;32m     91\u001b[0m     \u001b[38;5;28;01mreturn\u001b[39;00m \u001b[38;5;28mself\u001b[39m\u001b[38;5;241m.\u001b[39m\u001b[38;5;21m__next__\u001b[39m()\n\u001b[0;32m     92\u001b[0m \u001b[38;5;28;01melse\u001b[39;00m:\n\u001b[1;32m---> 93\u001b[0m     \u001b[38;5;28;01mraise\u001b[39;00m \u001b[38;5;167;01mStopIteration\u001b[39;00m\n",
      "\u001b[1;31mStopIteration\u001b[0m: "
     ]
    }
   ],
   "source": [
    "# Example usage, searching by DOI\n",
    "fetch_citations_and_save_to_csv(\"Requirements: The Key to Sustainability\", \"citations.csv\")\n"
   ]
  },
  {
   "cell_type": "code",
   "execution_count": 14,
   "id": "02ded307",
   "metadata": {},
   "outputs": [
    {
     "ename": "TypeError",
     "evalue": "string indices must be integers",
     "output_type": "error",
     "traceback": [
      "\u001b[1;31m---------------------------------------------------------------------------\u001b[0m",
      "\u001b[1;31mTypeError\u001b[0m                                 Traceback (most recent call last)",
      "Cell \u001b[1;32mIn [14], line 1\u001b[0m\n\u001b[1;32m----> 1\u001b[0m citations \u001b[38;5;241m=\u001b[39m \u001b[43mscholarly\u001b[49m\u001b[38;5;241;43m.\u001b[39;49m\u001b[43mcitedby\u001b[49m\u001b[43m(\u001b[49m\u001b[38;5;124;43m\"\u001b[39;49m\u001b[38;5;124;43mRequirements: The Key to Sustainability\u001b[39;49m\u001b[38;5;124;43m\"\u001b[39;49m\u001b[43m)\u001b[49m\n",
      "File \u001b[1;32m~\\AppData\\Local\\Packages\\PythonSoftwareFoundation.Python.3.8_qbz5n2kfra8p0\\LocalCache\\local-packages\\Python38\\site-packages\\scholarly\\_scholarly.py:282\u001b[0m, in \u001b[0;36m_Scholarly.citedby\u001b[1;34m(self, object)\u001b[0m\n\u001b[0;32m    274\u001b[0m \u001b[38;5;28;01mdef\u001b[39;00m \u001b[38;5;21mcitedby\u001b[39m(\u001b[38;5;28mself\u001b[39m, \u001b[38;5;28mobject\u001b[39m: Publication)\u001b[38;5;241m-\u001b[39m\u001b[38;5;241m>\u001b[39m_SearchScholarIterator:\n\u001b[0;32m    275\u001b[0m     \u001b[38;5;124;03m\"\"\"Searches Google Scholar for other articles that cite this Publication\u001b[39;00m\n\u001b[0;32m    276\u001b[0m \u001b[38;5;124;03m    and returns a Publication generator.\u001b[39;00m\n\u001b[0;32m    277\u001b[0m \n\u001b[0;32m    278\u001b[0m \u001b[38;5;124;03m    :param object: The Publication object for the bibtex exportation\u001b[39;00m\n\u001b[0;32m    279\u001b[0m \u001b[38;5;124;03m    :type object: Publication\u001b[39;00m\n\u001b[0;32m    280\u001b[0m \u001b[38;5;124;03m    \"\"\"\u001b[39;00m\n\u001b[1;32m--> 282\u001b[0m     \u001b[38;5;28;01mif\u001b[39;00m \u001b[38;5;28;43mobject\u001b[39;49m\u001b[43m[\u001b[49m\u001b[38;5;124;43m'\u001b[39;49m\u001b[38;5;124;43mcontainer_type\u001b[39;49m\u001b[38;5;124;43m'\u001b[39;49m\u001b[43m]\u001b[49m \u001b[38;5;241m!=\u001b[39m \u001b[38;5;124m\"\u001b[39m\u001b[38;5;124mPublication\u001b[39m\u001b[38;5;124m\"\u001b[39m:\n\u001b[0;32m    283\u001b[0m         \u001b[38;5;28mself\u001b[39m\u001b[38;5;241m.\u001b[39mlogger\u001b[38;5;241m.\u001b[39mwarning(\u001b[38;5;124m\"\u001b[39m\u001b[38;5;124mObject not supported for bibtex exportation\u001b[39m\u001b[38;5;124m\"\u001b[39m)\n\u001b[0;32m    284\u001b[0m         \u001b[38;5;28;01mreturn\u001b[39;00m\n",
      "\u001b[1;31mTypeError\u001b[0m: string indices must be integers"
     ]
    }
   ],
   "source": [
    "citations = scholarly.citedby()"
   ]
  },
  {
   "cell_type": "code",
   "execution_count": 15,
   "id": "5f28dddb",
   "metadata": {},
   "outputs": [
    {
     "ename": "StopIteration",
     "evalue": "",
     "output_type": "error",
     "traceback": [
      "\u001b[1;31m---------------------------------------------------------------------------\u001b[0m",
      "\u001b[1;31mStopIteration\u001b[0m                             Traceback (most recent call last)",
      "Cell \u001b[1;32mIn [15], line 2\u001b[0m\n\u001b[0;32m      1\u001b[0m search_query \u001b[38;5;241m=\u001b[39m scholarly\u001b[38;5;241m.\u001b[39msearch_pubs(\u001b[38;5;124m\"\u001b[39m\u001b[38;5;124mRequirements: The Key to Sustainability\u001b[39m\u001b[38;5;124m\"\u001b[39m)\n\u001b[1;32m----> 2\u001b[0m paper \u001b[38;5;241m=\u001b[39m \u001b[38;5;28;43mnext\u001b[39;49m\u001b[43m(\u001b[49m\u001b[43msearch_query\u001b[49m\u001b[43m)\u001b[49m\n\u001b[0;32m      3\u001b[0m \u001b[38;5;28mprint\u001b[39m(\u001b[38;5;124m\"\u001b[39m\u001b[38;5;124mhere\u001b[39m\u001b[38;5;124m\"\u001b[39m)\n\u001b[0;32m      4\u001b[0m \u001b[38;5;66;03m# Fetch the detailed info and get the citations\u001b[39;00m\n",
      "File \u001b[1;32m~\\AppData\\Local\\Packages\\PythonSoftwareFoundation.Python.3.8_qbz5n2kfra8p0\\LocalCache\\local-packages\\Python38\\site-packages\\scholarly\\publication_parser.py:93\u001b[0m, in \u001b[0;36m_SearchScholarIterator.__next__\u001b[1;34m(self)\u001b[0m\n\u001b[0;32m     91\u001b[0m     \u001b[38;5;28;01mreturn\u001b[39;00m \u001b[38;5;28mself\u001b[39m\u001b[38;5;241m.\u001b[39m\u001b[38;5;21m__next__\u001b[39m()\n\u001b[0;32m     92\u001b[0m \u001b[38;5;28;01melse\u001b[39;00m:\n\u001b[1;32m---> 93\u001b[0m     \u001b[38;5;28;01mraise\u001b[39;00m \u001b[38;5;167;01mStopIteration\u001b[39;00m\n",
      "\u001b[1;31mStopIteration\u001b[0m: "
     ]
    }
   ],
   "source": [
    "search_query = scholarly.search_pubs(\"Requirements: The Key to Sustainability\")\n",
    "paper = next(search_query)\n",
    "print(\"here\")\n",
    "# Fetch the detailed info and get the citations\n",
    "detailed_info = scholarly.fill(paper)\n",
    "\n",
    "print(\"here\")\n",
    "\n",
    "citations = scholarly.citedby(paper)"
   ]
  },
  {
   "cell_type": "code",
   "execution_count": null,
   "id": "002f00b1",
   "metadata": {},
   "outputs": [],
   "source": []
  }
 ],
 "metadata": {
  "kernelspec": {
   "display_name": "Python 3 (ipykernel)",
   "language": "python",
   "name": "python3"
  },
  "language_info": {
   "codemirror_mode": {
    "name": "ipython",
    "version": 3
   },
   "file_extension": ".py",
   "mimetype": "text/x-python",
   "name": "python",
   "nbconvert_exporter": "python",
   "pygments_lexer": "ipython3",
   "version": "3.8.10"
  }
 },
 "nbformat": 4,
 "nbformat_minor": 5
}
